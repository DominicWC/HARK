{
 "cells": [
  {
   "cell_type": "markdown",
   "metadata": {},
   "source": [
    "# Equiprobable Discretization of Bivariate Lognormals\n",
    "\n",
    "Given a bivariate lognormal distribution specified by the parameters\n",
    "\n",
    "$$ \\mu = \\begin{bmatrix}\n",
    "            \\mu_1\\\\\n",
    "            \\mu_2\n",
    "        \\end{bmatrix};\\:\\:\n",
    "    \\Sigma = \\begin{bmatrix}\n",
    "        \\sigma_1^2 & \\sigma_{12}\\\\\n",
    "        \\sigma_{21} & \\sigma_2^2\n",
    "        \\end{bmatrix}\n",
    "$$\n",
    "\n",
    "we want to produce a discretized version of the distribution that allows us to approximate expectations of functions of these lognormal variables quicker than through a direct integral solution. I use the following process to construct an equiprobable approximation of the bivariate lognormal. Begin first with a standard bivariate normal distribution, i.e. the random vector $(Z_1,\\,Z_2) \\sim \\mathcal{N}(\\boldsymbol{0},\\,I_{2\\times 2})$. Define the following normally distributed variables:\n",
    "\n",
    "$$\n",
    "\\begin{align*}\n",
    "    Y_1 &= \\mu_1 + \\sigma_1 Z_1\\\\\n",
    "    Y_2 &= \\mu_2 + \\frac{\\sigma_{12}}{\\sigma_1} Z_1 + Z_2\\sqrt{\\sigma_2^2 - \\left(\\frac{\\sigma_{12}}{\\sigma_1}\\right)^2}\n",
    "\\end{align*}\n",
    "$$\n",
    "\n",
    "For this construction to be valid, we need to make sure that $\\sigma_2^2 - \\left(\\frac{\\sigma_{12}}{\\sigma_1}\\right)^2 \\geq 0$. This is equivalent to $(\\sigma_1\\sigma_2)^2 \\geq \\sigma_{12}^2$. Since $\\Sigma$ is a covariance matrix, it is symmetric, which means that $\\sigma_{12}^2 = \\sigma_{12}\\sigma_{21}$. Further, by positive semi-definiteness, $|\\Sigma| \\geq 0$, which is equivalent to $\\sigma_{12}^2 \\leq (\\sigma_1\\sigma_2)^2$.\n",
    "\n",
    "Since $Z_1$ and $Z_2$ are jointly normally distributed, $Y_1$ and $Y_2$ are also jointly normal. $\\mathbb{E}[Y_1] = \\mu_1$ and $\\text{Var}(Y_1) = \\sigma_1^2$. Similarly, $\\mathbb{E}[Y_2] = \\mu_2$. The only thing of which we must make sure is that $\\text{Cov}(Y_1,\\,Y_2) = \\sigma_{12}$ and $\\text{Var}(Y_2) = \\sigma_2^2$. The covariance between $Y_1$ and $Y_2$ is purely driven by the component in $Z_1$, which means:\n",
    "\n",
    "$$\n",
    "\\begin{align*}\n",
    "    \\text{Cov}(Y_1,\\,Y_2) &= \\text{Cov}\\left(\\sigma_1 Z_1,\\,\\frac{\\sigma_{12}}{\\sigma_{1}}Z_1\\right)\\\\\n",
    "    &= \\sigma_{12}\\text{Var}(Z_1)\\\\\n",
    "    &= \\sigma_{12}\n",
    "\\end{align*}\n",
    "$$\n",
    "\n",
    "For variance:\n",
    "\n",
    "$$\n",
    "\\begin{align*}\n",
    "    \\text{Var}(Y_2) &= \\left(\\frac{\\sigma_{12}}{\\sigma_{1}}\\right)^2  + \\left[\\sigma_2^2 - \n",
    "    \\left(\\frac{\\sigma_{12}}{\\sigma_{1}}\\right)^2\\right]\\\\\n",
    "    &= \\sigma_2^2\n",
    "\\end{align*}\n",
    "$$\n",
    "\n",
    "Thus $(Y_1,\\,Y_2) \\sim \\mathcal{N}(\\mu,\\,\\Sigma)$. As a result, setting $X_1 = \\exp{(Y_1)}$ and $X_2 = \\exp{(Y_2)}$ gives $(X_1,\\,X_2)$ jointly lognormally distributed with parameters $\\mu$ and $\\Sigma$.\n",
    "\n",
    "The discretization then proceeds as follows. As we discretize the distribution to $n^2$ equiprobable points, we first construct an equiprobable $n$-grid of the standard normal. Given that $Z_1$ and $Z_2$ are independent, a square grid of this formulation gives an equiprobable $n^2$-grid over the standard bivariate normal. Each of these squares naturally correspond to a $n^{-2}$ probability grid in the space of the bivariate lognormal random variables $(X_1,\\,X_2)$. Now, we take the conditional expectation of $(X_1,\\,X_2)$ in each of these squares. For $X_1$:\n",
    "\n",
    "$$\n",
    "\\begin{align*}\n",
    "    n^2\\int_{\\underline{z}_2}^{\\overline{z}_2}\\int_{\\underline{z}_1}^{\\overline{z}_1}X_1(z_1,\\,z_2)f_{Z_1,\\,Z_2}(z_1,\\,z_2)dz_1dz_2 &= n^2\\int_{\\underline{z}_2}^{\\overline{z}_2}\\int_{\\underline{z}_1}^{\\overline{z}_1}(\\mu_1 + \\sigma_1Z_1)f_{Z_1}(z_1)f_{Z_2}(z_2)dz_1dz_2\\\\\n",
    "    &= n^2\\int_{\\underline{z}_2}^{\\overline{z}_2}f_{Z_2}(z_2)\\left(\\int_{\\underline{z}_1}^{\\overline{z}_1}(\\mu_1 + \\sigma_1Z_1)f_{Z_1}(z_1)dz_1\\right)dz_2\\\\\n",
    "    &= n^2\\left(\\int_{\\underline{z}_1}^{\\overline{z}_1}(\\mu_1 + \\sigma_1Z_1)f_{Z_1}(z_1)dz_1\\right)\\left(\\int_{\\underline{z}_2}^{\\overline{z}_2}f_{Z_2}(z_2)dz_2\\right)\\\\\n",
    "    &= \\frac{n^2}{n}\\int_{\\underline{z}_1}^{\\overline{z}_1}(\\mu_1 + \\sigma_1Z_1)f_{Z_1}(z_1)dz_1\\\\\n",
    "    &= n\\int_{\\exp{(\\mu_1 + \\sigma_1\\underline{z}_1)}}^{\\exp{(\\mu_1 + \\sigma_1\\overline{z}_1)}}x_1f_{X_1}(x_1)dx_1\n",
    "\\end{align*}\n",
    "$$\n",
    "\n",
    "Likewise, the expectation of $X_2$ can be written as:\n",
    "$$\n",
    "\\begin{align*}\n",
    "    n^2\\int_{\\underline{z}_2}^{\\overline{z}_2}\\int_{\\underline{z}_1}^{\\overline{z}_1}X_2(z_1,\\,z_2)f_{Z_1,\\,Z_2}(z_1,\\,z_2)dz_1dz_2 &= n^2\\exp{(\\mu_2)}\\left(\\int_{\\underline{z}_1}^{\\overline{z}_1}\\exp{\\left(\\frac{\\sigma_{12}}{\\sigma_{1}}z_1\\right)}f_{Z_1}(z_1)dz_1\\right)\\\\\n",
    "    &\\left(\\int_{\\underline{z}_2}^{\\overline{z}_2}\\exp\\left(\\sqrt{\\sigma_2^2 - \\left(\\frac{\\sigma_{12}}{\\sigma_2}\\right)^2}z_2\\right)f_{Z_2}(z_2)dz_2\\right)\\\\\n",
    "    &= n^2\\exp(\\mu_2)\\left(\\int_{\\underline{\\tilde{x}}_1}^{\\overline{\\tilde{x}}_1}\\tilde{x}_1f_{\\tilde{X}_1}(\\tilde{x}_1)d\\tilde{x}_1\\right)\\left(\\int_{\\underline{\\tilde{x}}_2}^{\\overline{\\tilde{x}}_2}\\tilde{x}_2f_{\\tilde{X}_2}(\\tilde{x}_2)d\\tilde{x}_2\\right)\n",
    "\\end{align*}\n",
    "$$\n",
    "Where $\\tilde{X}_1 = \\frac{\\sigma_{12}}{\\sigma_1}Z_1$ and $\\tilde{X}_2 = \\sqrt{\\sigma_2^2 - \\frac{\\sigma_{12}^2}{\\sigma_{1}^{2}}}Z_2$. To speed up the computation, we use the formula below for evaluating expectations of lognormally distributed variables within intervals. Given $\\log(X) \\sim \\mathcal{N}(\\mu,\\,\\sigma)$:\n",
    "$$\n",
    "\\begin{align*}\n",
    "    \\int_{\\underline{x}}^{\\overline{x}}xf_{X}(x)dx = \\frac{1}{2} \\cdot \\exp\\left(\\mu + \\frac{\\sigma^2}{2}\\right) \\cdot \\left[\\text{erf}\\left(\\frac{\\mu + \\sigma^2 - \\log(\\overline{x})}{\\sigma\\sqrt{2}}\\right) - \\text{erf}\\left(\\frac{\\mu + \\sigma^2 - \\log(\\underline{x})}{\\sigma\\sqrt{2}}\\right)\\right]\n",
    "\\end{align*}\n",
    "$$\n",
    "\n",
    "This notebook demonstrates the discretization output and the results obtained through its use."
   ]
  },
  {
   "cell_type": "code",
   "execution_count": 1,
   "metadata": {},
   "outputs": [],
   "source": [
    "import os\n",
    "\n",
    "os.chdir(\"../../\")\n",
    "import HARK\n",
    "import numpy as np"
   ]
  },
  {
   "cell_type": "code",
   "execution_count": 9,
   "metadata": {},
   "outputs": [],
   "source": [
    "Σ = np.array([[3.0, 1.0], [1.0, 2.0]])\n",
    "μ = [1.6, 3.1]\n",
    "\n",
    "X = HARK.distribution.BVLogNormal(mu=μ, Sigma=Σ)"
   ]
  },
  {
   "cell_type": "code",
   "execution_count": 10,
   "metadata": {},
   "outputs": [
    {
     "name": "stdout",
     "output_type": "stream",
     "text": [
      "22.197951281355564\n",
      "60.34028759738337\n"
     ]
    }
   ],
   "source": [
    "from scipy import integrate\n",
    "\n",
    "f1 = lambda x: X._marginal(x, 1)\n",
    "f2 = lambda x: X._marginal(x, 2)\n",
    "\n",
    "μ_1 = integrate.quad(lambda x: x * f1(x), 0, np.inf)[0]\n",
    "μ_2 = integrate.quad(lambda x: x * f2(x), 0, np.inf)[0]\n",
    "\n",
    "print(μ_1)\n",
    "print(μ_2)"
   ]
  },
  {
   "cell_type": "code",
   "execution_count": 13,
   "metadata": {},
   "outputs": [
    {
     "data": {
      "text/plain": [
       "array([22.19795128, 60.3402876 ])"
      ]
     },
     "execution_count": 13,
     "metadata": {},
     "output_type": "execute_result"
    }
   ],
   "source": [
    "N = 14\n",
    "\n",
    "X_approx = X._approx_equiprobable(N)\n",
    "\n",
    "X_approx.expected()"
   ]
  },
  {
   "cell_type": "code",
   "execution_count": null,
   "metadata": {},
   "outputs": [],
   "source": []
  },
  {
   "cell_type": "code",
   "execution_count": null,
   "metadata": {},
   "outputs": [],
   "source": []
  },
  {
   "cell_type": "code",
   "execution_count": null,
   "metadata": {},
   "outputs": [],
   "source": []
  },
  {
   "cell_type": "code",
   "execution_count": null,
   "metadata": {},
   "outputs": [],
   "source": []
  },
  {
   "cell_type": "code",
   "execution_count": null,
   "metadata": {},
   "outputs": [],
   "source": []
  },
  {
   "cell_type": "code",
   "execution_count": null,
   "metadata": {},
   "outputs": [],
   "source": []
  },
  {
   "cell_type": "code",
   "execution_count": null,
   "metadata": {},
   "outputs": [],
   "source": []
  },
  {
   "cell_type": "code",
   "execution_count": null,
   "metadata": {},
   "outputs": [],
   "source": []
  }
 ],
 "metadata": {
  "kernelspec": {
   "display_name": "Python 3 (ipykernel)",
   "language": "python",
   "name": "python3"
  },
  "language_info": {
   "codemirror_mode": {
    "name": "ipython",
    "version": 3
   },
   "file_extension": ".py",
   "mimetype": "text/x-python",
   "name": "python",
   "nbconvert_exporter": "python",
   "pygments_lexer": "ipython3",
   "version": "3.10.14"
  }
 },
 "nbformat": 4,
 "nbformat_minor": 4
}
