{
 "cells": [
  {
   "cell_type": "markdown",
   "id": "9aff8c24",
   "metadata": {},
   "source": [
    "# HARK and SSJ example\n",
    "\n",
    "By William Du (wdu9@jhu.edu) \n",
    "\n",
    "\n",
    "- This notebook demonstrates how HARK and the Sequence Space Jacobian toolkit can be combined to solve HANK models.\n",
    "    - And is heavily drawn from this [SSJ notebook](https://github.com/shade-econ/nber-workshop-2022/blob/main/Tutorials/Tutorial%201%20Fiscal%20Policy.ipynb) .\n",
    "\n",
    "- HARK was designed to solve rich microeconomic models, including:\n",
    "    - Lifecycle models\n",
    "    - Discrete-continuous choice\n",
    "    - Portfolio choice\n",
    "\n",
    "</br>\n",
    "\n",
    "- SSJ was created to solve HANK models with incredible speed and ease\n",
    "\n",
    "- The SSJ method and toolkit (Auclert et al) is utterly fantastic and game-changing\n",
    "\n",
    "- Big insight: Solving the microeconomic model (in steady state) can be *independent* of working out macroeconomic dynamics\n",
    "\n",
    "- Connecting HARK to SSJ allows us to solve macro models with richer micro features\n"
   ]
  },
  {
   "cell_type": "markdown",
   "id": "bf4b8cce",
   "metadata": {},
   "source": [
    "# Model\n",
    "\n",
    "\n",
    "To begin, a basic HANK model is introduced. The model follows the [lecture slides](https://github.com/shade-econ/nber-workshop-2022/blob/main/Lectures/Lecture%204%20Fiscal%20Policy.pdf) from the authors' heterogeneous agent workshop.\n",
    "\n",
    "## Basic model features\n",
    "\n",
    "- Heterogenous agent households that consume/save into one asset\n",
    "\n",
    "- Households face idiosyncratic income shocks\n",
    "\n",
    "- Cobb-Douglas production function with labor and capital\n",
    "\n",
    "- Sticky wages\n",
    "\n",
    "- To pay its expenditures, government taxes labor income and rolls over its debt\n"
   ]
  },
  {
   "cell_type": "markdown",
   "id": "f10546d3",
   "metadata": {},
   "source": [
    "# Bringing Model to Code\n",
    "\n",
    "To implement the model, we first need to import some basic, commonly used numeric tools (e.g. numpy and scipy), as well as an AgentType subclass from HARK. Additionally, we import the SSJ toolkit to apply as an additional layer on top of the microeconomic model."
   ]
  },
  {
   "cell_type": "code",
   "execution_count": null,
   "id": "49d75e2d",
   "metadata": {},
   "outputs": [],
   "source": [
    "# Basic tools\n",
    "import matplotlib.pyplot as plt\n",
    "import numpy as np\n",
    "import time\n",
    "from scipy import optimize\n",
    "\n",
    "# HARK agents\n",
    "from HARK.ConsumptionSaving.ConsNewKeynesianModel import NewKeynesianConsumerType\n",
    "\n",
    "# Sequence space Jacobian toolkit\n",
    "from sequence_jacobian.classes import JacobianDict, SteadyStateDict\n",
    "import sequence_jacobian as sj  # SSJ will allow us to define blocks, models, compute IRFs, etc"
   ]
  },
  {
   "cell_type": "markdown",
   "id": "b676fc68",
   "metadata": {},
   "source": [
    "### Calibrate Steady State Values\n",
    "\n",
    "Next, we calibrate the steady state values of some outcomes, and calculate a few values implied by them."
   ]
  },
  {
   "cell_type": "code",
   "execution_count": null,
   "id": "3fa9a283",
   "metadata": {},
   "outputs": [],
   "source": [
    "# Steady state calibration\n",
    "r_ss = 0.03  # Interest rate\n",
    "G_ss = 0.2  # Government spending\n",
    "B_ss = 0.2  # Government debt (bonds)\n",
    "Y_ss = 1.0  # Output\n",
    "\n",
    "# Implied steady state values\n",
    "T_ss = G_ss + r_ss * B_ss  # Lump sum taxes to keep debt constant\n",
    "Z_ss = Y_ss - T_ss  # After tax labor income\n",
    "F_ss = G_ss - T_ss  # Government budget deficit"
   ]
  },
  {
   "cell_type": "markdown",
   "id": "9373f1a5-7bfc-4ceb-b04b-f16110b7344a",
   "metadata": {},
   "source": [
    "### Microeconomic Agent Parameters\n",
    "\n",
    "To make our microeconomic agents in HARK, we need a dictionary of parameters, defined below. There are additional parameters that fully specify a NewKeynesianConsumerType, but we can leave them at their default values by not specifying them."
   ]
  },
  {
   "cell_type": "code",
   "execution_count": null,
   "id": "e4a84511",
   "metadata": {
    "tags": []
   },
   "outputs": [],
   "source": [
    "HANK_dict = {\n",
    "    \"Rfree\": 1.0 + r_ss,  # Interest factor on assets\n",
    "    \"tax_rate\": [0.0],  # Assume that labor here is actually after tax income\n",
    "    \"labor\": [Z_ss],  # Will be solving the micro model in steady state\n",
    "    \"UnempPrb\": 0.0,  # Probability of unemployment while working\n",
    "    \"IncUnemp\": 0.0,  # Unemployment benefits replacement rate\n",
    "}"
   ]
  },
  {
   "cell_type": "markdown",
   "id": "0b97096a",
   "metadata": {},
   "source": [
    "## Find Appropriate Discount Factor\n",
    "\n",
    "Above, we exogenously calibrated the steady state level of government debt $B_{ss}$. These bonds should be *owned* by someone, so we need our agents to want to hold the same level of assets as there are government bonds. To do so, we specify a function that yields steady state asset holdings as a function of agents' discount factor $\\beta$, and another function that simply differences it with our target level of assets. The appropriate discount factor can then be found by performing a bounded search for a root of the difference function."
   ]
  },
  {
   "cell_type": "code",
   "execution_count": null,
   "id": "ac7ec69c",
   "metadata": {},
   "outputs": [],
   "source": [
    "# Define a function that computes steady state aggregate assets as a function of the discount factor\n",
    "def calc_SS_assets_from_discfac(beta):\n",
    "    HANK_dict[\"DiscFac\"] = beta  # set the proposed discount factor\n",
    "    TempAgent = NewKeynesianConsumerType(\n",
    "        **HANK_dict, verbose=False\n",
    "    )  # make an AgentType instance\n",
    "    A_ss = TempAgent.compute_steady_state()[0]  # compute steady state assets\n",
    "    return A_ss\n",
    "\n",
    "\n",
    "# Define a simple function that differences steady state assets from target assets\n",
    "def calc_asset_gap(beta):\n",
    "    return calc_SS_assets_from_discfac(beta) - A_target\n",
    "\n",
    "\n",
    "# Find the discount factor that makes steady state assets equal (calibrated) steady state government bonds\n",
    "A_target = B_ss\n",
    "DiscFac_star = optimize.brentq(calc_asset_gap, 0.85, 0.99)"
   ]
  },
  {
   "cell_type": "markdown",
   "id": "e2afbf98-bd36-4b98-a4a5-084b1bcff766",
   "metadata": {},
   "source": [
    "## Make Agents with Calibrated Discount Factor\n",
    "\n",
    "Now that we know what the discount factor should be, we can make an AgentType instance that will be used for the general equilibrium analysis. To do so, we simply put $\\beta^*$ into our parameter dictionary and make a new instance of NewKeynesianConsumerType using it. To verify that we did what we set out to do, we can check that the output goods market clears (output is accounted for by consumption and government spending) and that the asset market clears (retained assets are accounted for by government bonds). Both conditions should be very close to zero."
   ]
  },
  {
   "cell_type": "code",
   "execution_count": null,
   "id": "dc28006a",
   "metadata": {},
   "outputs": [],
   "source": [
    "# Create a HARK agent\n",
    "HANK_dict[\"DiscFac\"] = DiscFac_star\n",
    "Agent_GE = NewKeynesianConsumerType(**HANK_dict, verbose=False)\n",
    "A_ss, C_ss = Agent_GE.compute_steady_state()\n",
    "\n",
    "# Verify market clearing conditions\n",
    "print(\"Goods clearing condition:\", Y_ss - C_ss - G_ss)\n",
    "print(\"Asset clearing condition:\", A_ss - B_ss)"
   ]
  },
  {
   "cell_type": "markdown",
   "id": "f7336168",
   "metadata": {},
   "source": [
    "## Compute Jacobian Matrices\n",
    "\n",
    "A deep insight that has recently made a large impact for our ability to handle heterogeneous agents models with rich microeconomic heterogeneity is that the macroeconomy can be well approximated by linearization, which makes it possible to calculate the dynamics of the model with response to perfect foresight ``MIT shocks'', as opposed to needing to develop more complicated functions. The key to this is to compute the response of the microeconomic model to small future disturbances-- the Jacobian matrix.\n",
    "\n",
    "HARK has a tool for calculating the Jacobian matrices that characterize consumption and asset responses to an exogenous *transitory* change in the interest factor (Rfree) or labor income (labor) that will occur in the future. This is accomplished with the calc_jacobian method, passing as arguments the name of the parameter that will be changed and the maximum number of periods in the future that a (marginal) change could occur.\n",
    "\n",
    "The outputs of this method are objects that represent the sensitivity of aggregate consumption and asset holdings (respectively) in each period to the *advance knowledge* of an exogenous change in each parameter."
   ]
  },
  {
   "cell_type": "code",
   "execution_count": null,
   "id": "ea09fc75",
   "metadata": {},
   "outputs": [],
   "source": [
    "start = time.time()\n",
    "\n",
    "dCdR, dAdR = Agent_GE.calc_jacobian(\n",
    "    \"Rfree\", 300\n",
    ")  # Jacobians of consumption and assets w.r.t. interest factor changes up to 300 periods ahead\n",
    "dCdZ, dAdZ = Agent_GE.calc_jacobian(\n",
    "    \"labor\", 300\n",
    ")  # Jacobians of consumption and assets w.r.t. labor supply changes up to 300 periods ahead\n",
    "\n",
    "print(\"Time to compute Jacobians: {:.3f} seconds.\".format(time.time() - start))"
   ]
  },
  {
   "cell_type": "markdown",
   "id": "8461c6e2-31bb-483b-93ba-6444db38ebc5",
   "metadata": {},
   "source": [
    "## Plot Jacobians\n",
    "\n",
    "To inspect the Jacobian matrix for aggregate consumption, we can plot some of its rows/columns, representing the consumption response to a change in the interest factor or labor income $T$ periods in the future."
   ]
  },
  {
   "cell_type": "code",
   "execution_count": null,
   "id": "ce169ef9",
   "metadata": {},
   "outputs": [],
   "source": [
    "plt.plot(dCdR.T[0])\n",
    "plt.plot(dCdR.T[30])\n",
    "plt.plot(dCdR.T[50])\n",
    "plt.legend(\n",
    "    [\n",
    "        r\"Change in $R$ right now\",\n",
    "        r\"Change in $R$ 30 periods ahead\",\n",
    "        r\"Change in $R$ 50 periods ahead\",\n",
    "    ]\n",
    ")\n",
    "plt.xlim(-2, 120)\n",
    "plt.title(\"Consumption Response to Change in Interest Factor\")\n",
    "plt.xlabel(\"Time\")\n",
    "plt.yticks([])\n",
    "plt.show()"
   ]
  },
  {
   "cell_type": "code",
   "execution_count": null,
   "id": "6eff21bb",
   "metadata": {},
   "outputs": [],
   "source": [
    "plt.plot(dCdZ.T[0])\n",
    "plt.plot(dCdZ.T[20])\n",
    "plt.plot(dCdZ.T[50])\n",
    "plt.xlim(-2, 120)\n",
    "plt.legend(\n",
    "    [\n",
    "        r\"Change in $Z$ right now\",\n",
    "        r\"Change in $Z$ 30 periods ahead\",\n",
    "        r\"Change in $Z$ 50 periods ahead\",\n",
    "    ]\n",
    ")\n",
    "plt.xlim(-2, 120)\n",
    "plt.title(\"Consumption Response to Change in Labor Income\")\n",
    "plt.xlabel(\"Time\")\n",
    "plt.yticks([])\n",
    "plt.show()"
   ]
  },
  {
   "cell_type": "markdown",
   "id": "fe6feb98",
   "metadata": {},
   "source": [
    "# Specify Government Budget Constraint and Market Clearing Conditions\n",
    "\n",
    "We now need to specify the other blocks of this Fiscal HANK model. The details of the model found [here](https://github.com/shade-econ/nber-workshop-2022/blob/main/Lectures/Lecture%204%20Fiscal%20Policy.pdf) tell us that only the governemnt budget constraint and the market clearing conditions need to be specified explicitly to capture the dynamics of the HANK model.\n",
    "\n",
    "The sequence space toolkit allows us to specify other blocks of the economy in a Dynaresque fashion as we simply need to write down the difference equations that define our model."
   ]
  },
  {
   "cell_type": "code",
   "execution_count": null,
   "id": "b35ed9e0",
   "metadata": {},
   "outputs": [],
   "source": [
    "# Government Budget Constraint\n",
    "@sj.simple\n",
    "def fiscal(B, r, G, Y):\n",
    "    T = (1 + r) * B(-1) + G - B  # total tax burden\n",
    "    Z = Y - T  # after tax income\n",
    "    deficit = G - T\n",
    "    return T, Z, deficit\n",
    "\n",
    "\n",
    "# Market Clearing Conditions\n",
    "@sj.simple\n",
    "def mkt_clearing(A, B, Y, C, G):\n",
    "    asset_mkt = A - B  # asset market clearing\n",
    "    goods_mkt = Y - C - G  # goods market clearing\n",
    "    return asset_mkt, goods_mkt"
   ]
  },
  {
   "cell_type": "code",
   "execution_count": null,
   "id": "f5710651",
   "metadata": {},
   "outputs": [],
   "source": [
    "# Store Jacobians in JacobianDict Object. This will capture behavior of heterogeneous hosueholds.\n",
    "het_household_block = JacobianDict({\"C\": {\"Z\": dCdZ}, \"A\": {\"Z\": dAdZ}})"
   ]
  },
  {
   "cell_type": "code",
   "execution_count": null,
   "id": "ffe65da0-7cea-4d60-9afe-f89adae896f8",
   "metadata": {
    "tags": []
   },
   "outputs": [],
   "source": [
    "# Construct SteadyStateDict object\n",
    "# Steady state values of each variable needs to be specified as we pertubing around this steady state.\n",
    "SteadyState_dict = SteadyStateDict(\n",
    "    {\n",
    "        \"asset_mkt\": 0.0,\n",
    "        \"goods_mkt\": 0.0,\n",
    "        \"deficit\": G_ss - T_ss,\n",
    "        \"B\": B_ss,  # Gov. Debt\n",
    "        \"r\": r_ss,  # Interest rate\n",
    "        \"G\": G_ss,  # Gov. Spending\n",
    "        \"Y\": Y_ss,  # Output\n",
    "        \"A\": B_ss,  # Assets\n",
    "        \"C\": C_ss,  # Consumption\n",
    "        \"Z\": Y_ss - T_ss,  # Income (post-tax)\n",
    "        \"T\": T_ss,  # Lump Sum Taxes\n",
    "    }\n",
    ")"
   ]
  },
  {
   "cell_type": "code",
   "execution_count": null,
   "id": "dbce1742",
   "metadata": {},
   "outputs": [],
   "source": [
    "# Create the model by combining three blocks:\n",
    "# (1) microeconomic responses to macroeconomic news (Jacobians)\n",
    "# (2) fiscal authority behavior\n",
    "# (3) market clearing conditions\n",
    "HANK = sj.create_model([het_household_block, fiscal, mkt_clearing], name=\"HA Model\")\n",
    "\n",
    "# Choose aggregate shock parameters for the simulation\n",
    "T = 300  # <-- the length of the IRF\n",
    "rho_G = 0.8  # peristence of shock\n",
    "dG = 0.01 * rho_G ** np.arange(T)\n",
    "shocks = {\"G\": dG}\n",
    "\n",
    "# Obtain impulse responses\n",
    "unknowns_td = [\"Y\"]  # unknowns to solve for to clear target condition below\n",
    "targets_td = [\"asset_mkt\"]  #\n",
    "\n",
    "# Solve for impulse responses to gov. spending shock (balanced budget)\n",
    "irfs_G_lin = HANK.solve_impulse_linear(\n",
    "    SteadyState_dict, unknowns_td, targets_td, shocks\n",
    ")"
   ]
  },
  {
   "cell_type": "code",
   "execution_count": null,
   "id": "93a0c5fc",
   "metadata": {
    "tags": []
   },
   "outputs": [],
   "source": [
    "# Define a function that can plot impulse response functions\n",
    "def show_irfs(\n",
    "    irfs_list,\n",
    "    variables,\n",
    "    labels=[\" \"],\n",
    "    ylabel=r\"Percentage points (dev. from ss)\",\n",
    "    T_plot=50,\n",
    "    figsize=(18, 6),\n",
    "):\n",
    "    if len(irfs_list) != len(labels):\n",
    "        labels = [\" \"] * len(irfs_list)\n",
    "    n_var = len(variables)\n",
    "    fig, ax = plt.subplots(1, n_var, figsize=figsize, sharex=True)\n",
    "    for i in range(n_var):\n",
    "        # plot all irfs\n",
    "        for j, irf in enumerate(irfs_list):\n",
    "            ax[i].plot(irf[variables[i]][:50], label=labels[j])\n",
    "        ax[i].set_title(variables[i])\n",
    "        ax[i].set_xlabel(r\"$t$\")\n",
    "        if i == 0:\n",
    "            ax[i].set_ylabel(ylabel)\n",
    "        ax[i].legend()\n",
    "    plt.show()"
   ]
  },
  {
   "cell_type": "markdown",
   "id": "523314a5",
   "metadata": {},
   "source": [
    "## Government Spending Shock (Balanced Budget)"
   ]
  },
  {
   "cell_type": "code",
   "execution_count": null,
   "id": "d287b37c",
   "metadata": {},
   "outputs": [],
   "source": [
    "show_irfs([irfs_G_lin], [\"G\", \"Y\", \"T\"], labels=[\"balanced budget\"])"
   ]
  },
  {
   "cell_type": "markdown",
   "id": "d6b166b2",
   "metadata": {},
   "source": [
    "## Government spending shock (deficit financed)"
   ]
  },
  {
   "cell_type": "code",
   "execution_count": null,
   "id": "603c9385",
   "metadata": {},
   "outputs": [],
   "source": [
    "# Define a 'fiscal rule' to this government spending shock by specifying a shock to debt that will finance the gov. spending shock\n",
    "rho_B = 0.9\n",
    "dB = np.cumsum(dG) * rho_B ** np.arange(T)\n",
    "shocks_B = {\"G\": dG, \"B\": dB}  # we will be shocking both government spending and debt\n",
    "\n",
    "# Solve for impulse responses\n",
    "irfs_B_lin = HANK.solve_impulse_linear(\n",
    "    SteadyState_dict, unknowns_td, targets_td, shocks_B\n",
    ")"
   ]
  },
  {
   "cell_type": "code",
   "execution_count": null,
   "id": "332b34b6",
   "metadata": {},
   "outputs": [],
   "source": [
    "# Show government spending, output, and taxes\n",
    "show_irfs(\n",
    "    [irfs_G_lin, irfs_B_lin],\n",
    "    [\"G\", \"Y\", \"T\"],\n",
    "    labels=[\"balanced budget\", \"deficit financed\"],\n",
    ")"
   ]
  },
  {
   "cell_type": "code",
   "execution_count": null,
   "id": "b0560df9-6428-4a31-921b-8637ef57107e",
   "metadata": {},
   "outputs": [],
   "source": [
    "# Show the deficit and consumption\n",
    "show_irfs(\n",
    "    [irfs_G_lin, irfs_B_lin],\n",
    "    [\"deficit\", \"C\"],\n",
    "    labels=[\"balanced budget\", \"deficit financed\"],\n",
    ")"
   ]
  },
  {
   "cell_type": "markdown",
   "id": "a06333f4-f3e6-4af7-923d-a1d211967aa3",
   "metadata": {},
   "source": [
    "# Why does HANK matter?\n",
    "\n",
    "Let us compare deficit financed government spending responses in HANK vs TANK vs RANK.\n",
    "\n",
    "To do so, a representative agent and a two agent household block will be specified to produce a RANK and TANK model. \n"
   ]
  },
  {
   "cell_type": "markdown",
   "id": "0f74e008-a96e-4b5f-8e8f-5b518ef4948b",
   "metadata": {},
   "source": [
    "## Specify a representative agent household\n",
    "\n",
    "Since the representative agent household solution can be expressed analytically, below the difference equations (euler equation and budget constraint) that define the representative agent problem are specified. "
   ]
  },
  {
   "cell_type": "code",
   "execution_count": null,
   "id": "d6743a5c-797d-4ba6-b6ba-ba6a4bf471a7",
   "metadata": {},
   "outputs": [],
   "source": [
    "@sj.solved(\n",
    "    unknowns={\"C\": 1, \"A\": 1}, targets=[\"euler\", \"budget_constraint\"]\n",
    ")  # solver=\"broyden_custom\")\n",
    "def hh_ra(C, A, Z, eis, beta, r):\n",
    "    euler = (beta * (1 + r(+1))) ** (-eis) * C(+1) - C  # RA euler equation\n",
    "    budget_constraint = (1 + r) * A(-1) + Z - C - A  # RA budget constraint\n",
    "    MPC = 0\n",
    "    return euler, budget_constraint, MPC\n",
    "\n",
    "\n",
    "# create RANK model where heterogeneous household block is replaced with representative agent block 'hh_ra'\n",
    "RANK = sj.create_model([hh_ra, fiscal, mkt_clearing], name=\"Representative agent model\")"
   ]
  },
  {
   "cell_type": "markdown",
   "id": "b238e64e-4a22-41c1-ac27-9034687f1854",
   "metadata": {},
   "source": [
    "## Specify a two agent household\n",
    "\n",
    "Similar to the rep. agent problem, the difference equations (euler equation and budget constraint) that define the two agent problem are specified. "
   ]
  },
  {
   "cell_type": "code",
   "execution_count": null,
   "id": "91f14ad6-9b3a-45a1-ab1a-e2d9fe989240",
   "metadata": {},
   "outputs": [],
   "source": [
    "@sj.solved(\n",
    "    unknowns={\"C_RA\": 1, \"A\": 1}, targets=[\"euler\", \"budget_constraint\"]\n",
    ")  # , solver=\"broyden_custom\")\n",
    "def hh_ta(C_RA, A, Z, eis, beta, r, lam):\n",
    "    euler = (beta * (1 + r(+1))) ** (-eis) * C_RA(\n",
    "        +1\n",
    "    ) - C_RA  # consumption of infinitely lived household\n",
    "    C_H2M = Z  # computes consumption of an hand to mouth agent\n",
    "    C = (1 - lam) * C_RA + lam * C_H2M  # lam is proportion of hand to mouth households\n",
    "    budget_constraint = (1 + r) * A(-1) + Z - C - A\n",
    "    MPC = 0\n",
    "    return euler, budget_constraint, C_H2M, C, MPC\n",
    "\n",
    "\n",
    "# create TANK model where heterogeneous household is replaced with 'hh_ta'\n",
    "TANK = sj.create_model([hh_ta, fiscal, mkt_clearing], name=\"Two agent model\")"
   ]
  },
  {
   "cell_type": "markdown",
   "id": "ceac82e9-de7c-4bc6-865b-acb6470cd2e2",
   "metadata": {},
   "source": [
    "## Calibrate and find steady states of TANK and RANK models.\n",
    "\n",
    "Now that we have defined the representative agent and two agent models, we need to solve for a steady state in each model for which we will perturb around later to solve for dynamics."
   ]
  },
  {
   "cell_type": "code",
   "execution_count": null,
   "id": "79c5ab27-ab2e-442c-812b-383df409bfdc",
   "metadata": {},
   "outputs": [],
   "source": [
    "# base dictionary for calibrating representative agent and two agent household.\n",
    "calibration = {\n",
    "    \"eis\": 0.5,  # EIS\n",
    "    \"G\": G_ss,  # Government spending\n",
    "    \"B\": B_ss,  # Government debt\n",
    "    \"Y\": Y_ss,  # Output\n",
    "    \"r\": r_ss,\n",
    "}  # Number of productivity grid points"
   ]
  },
  {
   "cell_type": "code",
   "execution_count": null,
   "id": "ad591df6-2229-4a26-bbf3-1cc5328048d4",
   "metadata": {},
   "outputs": [],
   "source": [
    "calibration_ra = calibration.copy()  # dictionary for representative agent block\n",
    "calibration_ra[\"beta\"] = 1 / (1 + calibration_ra[\"r\"])  # for steady state consumption\n",
    "calibration_ra[\"B\"] = calibration[\"B\"]\n",
    "\n",
    "unknowns_ra_ss = {\n",
    "    \"C\": 1.0,\n",
    "    \"A\": 0.8,\n",
    "}  # solve for two unknowns to clear the targets below\n",
    "targets_ra_ss = {\"budget_constraint\": 0.0, \"asset_mkt\": 0.0}\n",
    "\n",
    "# solve for steady state for RANK model\n",
    "ss_RANK = RANK.solve_steady_state(\n",
    "    calibration_ra, unknowns_ra_ss, targets_ra_ss, dissolve=[\"hh_ra\"]\n",
    ")  # solve steady state for RANK model"
   ]
  },
  {
   "cell_type": "code",
   "execution_count": null,
   "id": "51819b72-9ba9-4a36-b240-72745a1c2579",
   "metadata": {},
   "outputs": [],
   "source": [
    "calibration_ta = calibration_ra.copy()  # dictionary for two agent block\n",
    "calibration_ta[\"lam\"] = 0.25  # proportion of hand to mouth\n",
    "unknowns_ta_ss = {\n",
    "    \"C_RA\": 1.0,\n",
    "    \"A\": 0.8,\n",
    "}  # solve for two unknowns to clear the targets below\n",
    "\n",
    "# solve for steady state for TANK model\n",
    "ss_TANK = TANK.solve_steady_state(\n",
    "    calibration_ta, unknowns_ta_ss, targets_ra_ss, dissolve=[\"hh_ta\"]\n",
    ")  # solve steady state for TANK model"
   ]
  },
  {
   "cell_type": "markdown",
   "id": "3eb1f5d6-543d-4591-b4d9-7b4adef4e39c",
   "metadata": {},
   "source": [
    "## Impulse responses to deficit financed G shocks: HANK vs TANK vs RANK"
   ]
  },
  {
   "cell_type": "code",
   "execution_count": null,
   "id": "7238b86f-2033-40a6-a9f9-9fa31a4c02a1",
   "metadata": {},
   "outputs": [],
   "source": [
    "irfs_RANK = RANK.solve_impulse_linear(\n",
    "    ss_RANK, unknowns_td, targets_td, shocks_B\n",
    ")  # solve for impulse responses in RANK model\n",
    "irfs_TANK = TANK.solve_impulse_linear(\n",
    "    ss_TANK, unknowns_td, targets_td, shocks_B\n",
    ")  # solve for impulse responses in TANK model\n",
    "\n",
    "# Plot irfs of HANK, RANK, and TANK\n",
    "show_irfs(\n",
    "    [irfs_B_lin, irfs_RANK, irfs_TANK],\n",
    "    variables=[\"deficit\", \"Y\", \"C\"],\n",
    "    labels=[\"HANK\", \"RANK\", \"TANK\"],\n",
    ")"
   ]
  },
  {
   "cell_type": "markdown",
   "id": "147be7ca-01e9-4401-98b2-1a3747813ac5",
   "metadata": {},
   "source": [
    "# Simulating time series"
   ]
  },
  {
   "cell_type": "markdown",
   "id": "e7168496-cd84-4627-9c44-3374adb5909d",
   "metadata": {},
   "source": [
    "## Let us simulate the economy when it is subject to deficit financed government spending shocks."
   ]
  },
  {
   "cell_type": "code",
   "execution_count": null,
   "id": "b5c0769c-7cd4-4050-9a8e-8e303f5e80de",
   "metadata": {},
   "outputs": [],
   "source": [
    "from estimation.routines import simulate\n",
    "\n",
    "outputs = [\"Y\", \"C\", \"deficit\", \"G\"]  # aggregate variables to be simulated\n",
    "\n",
    "impulses_ha = {}\n",
    "impulses_ra = {}\n",
    "impulses_ta = {}\n",
    "\n",
    "shk_std = 0.001  # standard deviation of shock\n",
    "rho_G = 0.8  # persistence of G shock\n",
    "rho_B = 0.9  # persistence of Deficit shock\n",
    "\n",
    "dG = shk_std * 0.8 ** np.arange(T)  # G Shock series\n",
    "dB = np.cumsum(dG) * rho_B ** np.arange(T)  # deficit shock series (fiscal rule)\n",
    "\n",
    "own_shock = {\n",
    "    \"G\": shk_std * rho_G ** np.arange(T),\n",
    "    \"B\": dB,\n",
    "}  # this captures the AR shock process to deficit financed gov. spending\n",
    "\n",
    "impulses_ha[\"ha\"] = HANK.solve_impulse_linear(\n",
    "    SteadyState_dict, unknowns_td, targets_td, own_shock\n",
    ")  # solve impulse responses to HANK\n",
    "impulses_ta[\"ta\"] = TANK.solve_impulse_linear(\n",
    "    ss_ta, unknowns_td, targets_td, own_shock\n",
    ")  # solve impulse responses to TANK\n",
    "impulses_ra[\"ra\"] = RANK.solve_impulse_linear(\n",
    "    ss_ra, unknowns_td, targets_td, own_shock\n",
    ")  # solve impulse responses to RANK\n",
    "\n",
    "\n",
    "T_sim = 80  # simulate for 80 quarters\n",
    "data_simul_ha = simulate(\n",
    "    list(impulses_ha.values()), outputs, T_sim\n",
    ")  # Simulate aggregate variables in 'outputs' in HANK\n",
    "data_simul_ta = simulate(\n",
    "    list(impulses_ta.values()), outputs, T_sim\n",
    ")  # Simulate aggregate variables in 'outputs' in TANK\n",
    "data_simul_ra = simulate(\n",
    "    list(impulses_ra.values()), outputs, T_sim\n",
    ")  # Simulate aggregate variables in 'outputs' in RANK"
   ]
  },
  {
   "cell_type": "markdown",
   "id": "e2a9f3f3-d75b-41dd-a2cf-56466a4d7d22",
   "metadata": {},
   "source": [
    "# Comparing time series of HANK, TANK, and RANK"
   ]
  },
  {
   "cell_type": "code",
   "execution_count": null,
   "id": "e3d57079-04c4-4567-80a0-10ac88c006ed",
   "metadata": {},
   "outputs": [],
   "source": [
    "fig, axes = plt.subplots(nrows=1, ncols=3, figsize=(13, 5))\n",
    "axes[0].plot(data_simul_ha[\"Y\"])\n",
    "axes[0].plot(data_simul_ta[\"Y\"])\n",
    "axes[0].plot(data_simul_ra[\"Y\"])\n",
    "axes[0].set_title(\"Output\")\n",
    "axes[0].set_xlabel(\"Quarters\")\n",
    "axes[1].plot(data_simul_ha[\"G\"])\n",
    "axes[1].plot(data_simul_ta[\"G\"])\n",
    "axes[1].plot(data_simul_ra[\"G\"])\n",
    "axes[1].set_title(\"Government Spending\")\n",
    "axes[1].set_xlabel(\"Quarters\")\n",
    "axes[2].plot(data_simul_ha[\"deficit\"])\n",
    "axes[2].plot(data_simul_ta[\"deficit\"])\n",
    "axes[2].plot(data_simul_ra[\"deficit\"])\n",
    "axes[2].set_title(\"Deficit\")\n",
    "axes[2].set_xlabel(\"Quarters\")\n",
    "fig.tight_layout()"
   ]
  },
  {
   "cell_type": "code",
   "execution_count": null,
   "id": "c22f17b7-a56c-4219-839a-23ffb1b56bd8",
   "metadata": {},
   "outputs": [],
   "source": []
  }
 ],
 "metadata": {
  "kernelspec": {
   "display_name": "Python 3 (ipykernel)",
   "language": "python",
   "name": "python3"
  },
  "language_info": {
   "codemirror_mode": {
    "name": "ipython",
    "version": 3
   },
   "file_extension": ".py",
   "mimetype": "text/x-python",
   "name": "python",
   "nbconvert_exporter": "python",
   "pygments_lexer": "ipython3",
   "version": "3.9.19"
  }
 },
 "nbformat": 4,
 "nbformat_minor": 5
}
